{
 "cells": [
  {
   "cell_type": "markdown",
   "id": "2bfda963",
   "metadata": {},
   "source": [
    "# Importando bibliotecas"
   ]
  },
  {
   "cell_type": "code",
   "execution_count": 1,
   "id": "f291a0d5",
   "metadata": {},
   "outputs": [],
   "source": [
    "import pandas as pd\n",
    "import numpy as np\n",
    "import seaborn as sns\n",
    "import warnings"
   ]
  },
  {
   "cell_type": "markdown",
   "id": "b045369f",
   "metadata": {},
   "source": [
    "# Carregando DataFrames\n",
    "\n",
    "### Fontes:\n",
    "\n",
    "Número de votos por múnicipios: https://www.tse.jus.br  \n",
    "População dos múnicipios 2021:  https://github.com/mapaslivres/municipios-br  \n",
    "PIB per capita dos múnicipios 2020: https://www.ibge.gov.br/  \n",
    "IDH por municipio: http://www.atlasbrasil.org.br/ranking"
   ]
  },
  {
   "cell_type": "code",
   "execution_count": 2,
   "id": "41d02e7b",
   "metadata": {},
   "outputs": [],
   "source": [
    "votos_municipio = pd.read_csv('votacao_municipio.csv', sep=';', encoding='latin-1')\n",
    "pop_municipio = pd.read_csv('municipios.csv', sep=',', encoding='utf-8')\n",
    "pib = pd.read_excel('pib.xls')\n",
    "idh = pd.read_excel('idh.xlsx')"
   ]
  },
  {
   "cell_type": "markdown",
   "id": "ac11d163",
   "metadata": {},
   "source": [
    "# Checando DataFrames"
   ]
  },
  {
   "cell_type": "code",
   "execution_count": 3,
   "id": "dae92bf5",
   "metadata": {},
   "outputs": [
    {
     "data": {
      "text/html": [
       "<div>\n",
       "<style scoped>\n",
       "    .dataframe tbody tr th:only-of-type {\n",
       "        vertical-align: middle;\n",
       "    }\n",
       "\n",
       "    .dataframe tbody tr th {\n",
       "        vertical-align: top;\n",
       "    }\n",
       "\n",
       "    .dataframe thead th {\n",
       "        text-align: right;\n",
       "    }\n",
       "</style>\n",
       "<table border=\"1\" class=\"dataframe\">\n",
       "  <thead>\n",
       "    <tr style=\"text-align: right;\">\n",
       "      <th></th>\n",
       "      <th>sg_uf</th>\n",
       "      <th>nm_municipio</th>\n",
       "      <th>cd_cargo</th>\n",
       "      <th>ds_cargo</th>\n",
       "      <th>nr_candidato</th>\n",
       "      <th>nm_candidato</th>\n",
       "      <th>nm_urna_candidato</th>\n",
       "      <th>sg_partido</th>\n",
       "      <th>ds_composicao_coligacao</th>\n",
       "      <th>nr_turno</th>\n",
       "      <th>ds_sit_totalizacao</th>\n",
       "      <th>dt_ult_totalizacao</th>\n",
       "      <th>sg_ue</th>\n",
       "      <th>sq_candidato</th>\n",
       "      <th>nm_tipo_destinacao_votos</th>\n",
       "      <th>sq_eleicao_divulga</th>\n",
       "      <th>qt_votos_nom_validos</th>\n",
       "    </tr>\n",
       "  </thead>\n",
       "  <tbody>\n",
       "    <tr>\n",
       "      <th>0</th>\n",
       "      <td>AC</td>\n",
       "      <td>ACRELÂNDIA</td>\n",
       "      <td>1</td>\n",
       "      <td>Presidente</td>\n",
       "      <td>22</td>\n",
       "      <td>JAIR MESSIAS BOLSONARO</td>\n",
       "      <td>JAIR BOLSONARO</td>\n",
       "      <td>PL</td>\n",
       "      <td>PP / REPUBLICANOS / PL</td>\n",
       "      <td>2</td>\n",
       "      <td>Não Eleito</td>\n",
       "      <td>2022-10-31 00:28:52</td>\n",
       "      <td>BR</td>\n",
       "      <td>280001618036</td>\n",
       "      <td>Válido</td>\n",
       "      <td>2040602022</td>\n",
       "      <td>5317</td>\n",
       "    </tr>\n",
       "    <tr>\n",
       "      <th>1</th>\n",
       "      <td>AC</td>\n",
       "      <td>ACRELÂNDIA</td>\n",
       "      <td>1</td>\n",
       "      <td>Presidente</td>\n",
       "      <td>13</td>\n",
       "      <td>LUIZ INÁCIO LULA DA SILVA</td>\n",
       "      <td>LULA</td>\n",
       "      <td>PT</td>\n",
       "      <td>(PT/PC do B/PV) / SOLIDARIEDADE / (PSOL/REDE) ...</td>\n",
       "      <td>2</td>\n",
       "      <td>Eleito</td>\n",
       "      <td>2022-10-31 00:28:52</td>\n",
       "      <td>BR</td>\n",
       "      <td>280001607829</td>\n",
       "      <td>Válido</td>\n",
       "      <td>2040602022</td>\n",
       "      <td>1460</td>\n",
       "    </tr>\n",
       "  </tbody>\n",
       "</table>\n",
       "</div>"
      ],
      "text/plain": [
       "  sg_uf nm_municipio  cd_cargo    ds_cargo  nr_candidato  \\\n",
       "0    AC   ACRELÂNDIA         1  Presidente            22   \n",
       "1    AC   ACRELÂNDIA         1  Presidente            13   \n",
       "\n",
       "                nm_candidato nm_urna_candidato sg_partido  \\\n",
       "0     JAIR MESSIAS BOLSONARO    JAIR BOLSONARO         PL   \n",
       "1  LUIZ INÁCIO LULA DA SILVA              LULA         PT   \n",
       "\n",
       "                             ds_composicao_coligacao  nr_turno  \\\n",
       "0                             PP / REPUBLICANOS / PL         2   \n",
       "1  (PT/PC do B/PV) / SOLIDARIEDADE / (PSOL/REDE) ...         2   \n",
       "\n",
       "  ds_sit_totalizacao   dt_ult_totalizacao sg_ue  sq_candidato  \\\n",
       "0         Não Eleito  2022-10-31 00:28:52    BR  280001618036   \n",
       "1             Eleito  2022-10-31 00:28:52    BR  280001607829   \n",
       "\n",
       "  nm_tipo_destinacao_votos  sq_eleicao_divulga  qt_votos_nom_validos  \n",
       "0                   Válido          2040602022                  5317  \n",
       "1                   Válido          2040602022                  1460  "
      ]
     },
     "execution_count": 3,
     "metadata": {},
     "output_type": "execute_result"
    }
   ],
   "source": [
    "votos_municipio.head(2)"
   ]
  },
  {
   "cell_type": "code",
   "execution_count": 4,
   "id": "49ee7def",
   "metadata": {},
   "outputs": [
    {
     "data": {
      "text/html": [
       "<div>\n",
       "<style scoped>\n",
       "    .dataframe tbody tr th:only-of-type {\n",
       "        vertical-align: middle;\n",
       "    }\n",
       "\n",
       "    .dataframe tbody tr th {\n",
       "        vertical-align: top;\n",
       "    }\n",
       "\n",
       "    .dataframe thead th {\n",
       "        text-align: right;\n",
       "    }\n",
       "</style>\n",
       "<table border=\"1\" class=\"dataframe\">\n",
       "  <thead>\n",
       "    <tr style=\"text-align: right;\">\n",
       "      <th></th>\n",
       "      <th>municipio</th>\n",
       "      <th>uf</th>\n",
       "      <th>uf_code</th>\n",
       "      <th>name</th>\n",
       "      <th>mesoregion</th>\n",
       "      <th>microregion</th>\n",
       "      <th>rgint</th>\n",
       "      <th>rgi</th>\n",
       "      <th>osm_relation_id</th>\n",
       "      <th>wikidata_id</th>\n",
       "      <th>is_capital</th>\n",
       "      <th>wikipedia_pt</th>\n",
       "      <th>lon</th>\n",
       "      <th>lat</th>\n",
       "      <th>no_accents</th>\n",
       "      <th>slug_name</th>\n",
       "      <th>alternative_names</th>\n",
       "      <th>pop_21</th>\n",
       "    </tr>\n",
       "  </thead>\n",
       "  <tbody>\n",
       "    <tr>\n",
       "      <th>0</th>\n",
       "      <td>1100015</td>\n",
       "      <td>11</td>\n",
       "      <td>RO</td>\n",
       "      <td>Alta Floresta d'Oeste</td>\n",
       "      <td>1102</td>\n",
       "      <td>11006</td>\n",
       "      <td>1102</td>\n",
       "      <td>110005</td>\n",
       "      <td>325842</td>\n",
       "      <td>Q1761456</td>\n",
       "      <td>NaN</td>\n",
       "      <td>Alta Floresta d'Oeste</td>\n",
       "      <td>-61.999824</td>\n",
       "      <td>-11.935540</td>\n",
       "      <td>Alta Floresta d'Oeste</td>\n",
       "      <td>alta-floresta-doeste</td>\n",
       "      <td>NaN</td>\n",
       "      <td>22516</td>\n",
       "    </tr>\n",
       "    <tr>\n",
       "      <th>1</th>\n",
       "      <td>1100023</td>\n",
       "      <td>11</td>\n",
       "      <td>RO</td>\n",
       "      <td>Ariquemes</td>\n",
       "      <td>1102</td>\n",
       "      <td>11003</td>\n",
       "      <td>1101</td>\n",
       "      <td>110002</td>\n",
       "      <td>325888</td>\n",
       "      <td>Q1646975</td>\n",
       "      <td>NaN</td>\n",
       "      <td>Ariquemes</td>\n",
       "      <td>-63.033269</td>\n",
       "      <td>-9.908463</td>\n",
       "      <td>Ariquemes</td>\n",
       "      <td>ariquemes</td>\n",
       "      <td>NaN</td>\n",
       "      <td>111148</td>\n",
       "    </tr>\n",
       "  </tbody>\n",
       "</table>\n",
       "</div>"
      ],
      "text/plain": [
       "   municipio  uf uf_code                   name  mesoregion  microregion  \\\n",
       "0    1100015  11      RO  Alta Floresta d'Oeste        1102        11006   \n",
       "1    1100023  11      RO              Ariquemes        1102        11003   \n",
       "\n",
       "   rgint     rgi  osm_relation_id wikidata_id is_capital  \\\n",
       "0   1102  110005           325842    Q1761456        NaN   \n",
       "1   1101  110002           325888    Q1646975        NaN   \n",
       "\n",
       "            wikipedia_pt        lon        lat             no_accents  \\\n",
       "0  Alta Floresta d'Oeste -61.999824 -11.935540  Alta Floresta d'Oeste   \n",
       "1              Ariquemes -63.033269  -9.908463              Ariquemes   \n",
       "\n",
       "              slug_name alternative_names  pop_21  \n",
       "0  alta-floresta-doeste               NaN   22516  \n",
       "1             ariquemes               NaN  111148  "
      ]
     },
     "execution_count": 4,
     "metadata": {},
     "output_type": "execute_result"
    }
   ],
   "source": [
    "pop_municipio.head(2)"
   ]
  },
  {
   "cell_type": "code",
   "execution_count": 5,
   "id": "0d65415d",
   "metadata": {},
   "outputs": [
    {
     "data": {
      "text/html": [
       "<div>\n",
       "<style scoped>\n",
       "    .dataframe tbody tr th:only-of-type {\n",
       "        vertical-align: middle;\n",
       "    }\n",
       "\n",
       "    .dataframe tbody tr th {\n",
       "        vertical-align: top;\n",
       "    }\n",
       "\n",
       "    .dataframe thead th {\n",
       "        text-align: right;\n",
       "    }\n",
       "</style>\n",
       "<table border=\"1\" class=\"dataframe\">\n",
       "  <thead>\n",
       "    <tr style=\"text-align: right;\">\n",
       "      <th></th>\n",
       "      <th>Ano</th>\n",
       "      <th>Código da Grande Região</th>\n",
       "      <th>Nome da Grande Região</th>\n",
       "      <th>Código da Unidade da Federação</th>\n",
       "      <th>Sigla da Unidade da Federação</th>\n",
       "      <th>Nome da Unidade da Federação</th>\n",
       "      <th>Código do Município</th>\n",
       "      <th>Nome do Município</th>\n",
       "      <th>Região Metropolitana</th>\n",
       "      <th>Código da Mesorregião</th>\n",
       "      <th>...</th>\n",
       "      <th>Valor adicionado bruto da Indústria,\\na preços correntes\\n(R$ 1.000)</th>\n",
       "      <th>Valor adicionado bruto dos Serviços,\\na preços correntes \\n- exceto Administração, defesa, educação e saúde públicas e seguridade social\\n(R$ 1.000)</th>\n",
       "      <th>Valor adicionado bruto da Administração, defesa, educação e saúde públicas e seguridade social, \\na preços correntes\\n(R$ 1.000)</th>\n",
       "      <th>Valor adicionado bruto total, \\na preços correntes\\n(R$ 1.000)</th>\n",
       "      <th>Impostos, líquidos de subsídios, sobre produtos, \\na preços correntes\\n(R$ 1.000)</th>\n",
       "      <th>Produto Interno Bruto, \\na preços correntes\\n(R$ 1.000)</th>\n",
       "      <th>Produto Interno Bruto per capita, \\na preços correntes\\n(R$ 1,00)</th>\n",
       "      <th>Atividade com maior valor adicionado bruto</th>\n",
       "      <th>Atividade com segundo maior valor adicionado bruto</th>\n",
       "      <th>Atividade com terceiro maior valor adicionado bruto</th>\n",
       "    </tr>\n",
       "  </thead>\n",
       "  <tbody>\n",
       "    <tr>\n",
       "      <th>0</th>\n",
       "      <td>2010</td>\n",
       "      <td>1</td>\n",
       "      <td>Norte</td>\n",
       "      <td>11</td>\n",
       "      <td>RO</td>\n",
       "      <td>Rondônia</td>\n",
       "      <td>1100015</td>\n",
       "      <td>Alta Floresta D'Oeste</td>\n",
       "      <td>NaN</td>\n",
       "      <td>1102</td>\n",
       "      <td>...</td>\n",
       "      <td>16118.534</td>\n",
       "      <td>62496.185</td>\n",
       "      <td>93244.656</td>\n",
       "      <td>241119.767</td>\n",
       "      <td>20957.111</td>\n",
       "      <td>262076.878</td>\n",
       "      <td>10731.18</td>\n",
       "      <td>Administração, defesa, educação e saúde públic...</td>\n",
       "      <td>Pecuária, inclusive apoio à pecuária</td>\n",
       "      <td>Demais serviços</td>\n",
       "    </tr>\n",
       "    <tr>\n",
       "      <th>1</th>\n",
       "      <td>2010</td>\n",
       "      <td>1</td>\n",
       "      <td>Norte</td>\n",
       "      <td>11</td>\n",
       "      <td>RO</td>\n",
       "      <td>Rondônia</td>\n",
       "      <td>1100023</td>\n",
       "      <td>Ariquemes</td>\n",
       "      <td>NaN</td>\n",
       "      <td>1102</td>\n",
       "      <td>...</td>\n",
       "      <td>287138.585</td>\n",
       "      <td>494946.267</td>\n",
       "      <td>343867.731</td>\n",
       "      <td>1199664.227</td>\n",
       "      <td>165029.553</td>\n",
       "      <td>1364693.780</td>\n",
       "      <td>15103.86</td>\n",
       "      <td>Administração, defesa, educação e saúde públic...</td>\n",
       "      <td>Demais serviços</td>\n",
       "      <td>Comércio e reparação de veículos automotores e...</td>\n",
       "    </tr>\n",
       "  </tbody>\n",
       "</table>\n",
       "<p>2 rows × 43 columns</p>\n",
       "</div>"
      ],
      "text/plain": [
       "    Ano  Código da Grande Região Nome da Grande Região  \\\n",
       "0  2010                        1                 Norte   \n",
       "1  2010                        1                 Norte   \n",
       "\n",
       "   Código da Unidade da Federação Sigla da Unidade da Federação  \\\n",
       "0                              11                            RO   \n",
       "1                              11                            RO   \n",
       "\n",
       "  Nome da Unidade da Federação  Código do Município      Nome do Município  \\\n",
       "0                     Rondônia              1100015  Alta Floresta D'Oeste   \n",
       "1                     Rondônia              1100023              Ariquemes   \n",
       "\n",
       "  Região Metropolitana  Código da Mesorregião  ...  \\\n",
       "0                  NaN                   1102  ...   \n",
       "1                  NaN                   1102  ...   \n",
       "\n",
       "  Valor adicionado bruto da Indústria,\\na preços correntes\\n(R$ 1.000)  \\\n",
       "0                                          16118.534                     \n",
       "1                                         287138.585                     \n",
       "\n",
       "   Valor adicionado bruto dos Serviços,\\na preços correntes \\n- exceto Administração, defesa, educação e saúde públicas e seguridade social\\n(R$ 1.000)  \\\n",
       "0                                          62496.185                                                                                                      \n",
       "1                                         494946.267                                                                                                      \n",
       "\n",
       "  Valor adicionado bruto da Administração, defesa, educação e saúde públicas e seguridade social, \\na preços correntes\\n(R$ 1.000)  \\\n",
       "0                                          93244.656                                                                                 \n",
       "1                                         343867.731                                                                                 \n",
       "\n",
       "   Valor adicionado bruto total, \\na preços correntes\\n(R$ 1.000)  \\\n",
       "0                                         241119.767                \n",
       "1                                        1199664.227                \n",
       "\n",
       "  Impostos, líquidos de subsídios, sobre produtos, \\na preços correntes\\n(R$ 1.000)  \\\n",
       "0                                          20957.111                                  \n",
       "1                                         165029.553                                  \n",
       "\n",
       "  Produto Interno Bruto, \\na preços correntes\\n(R$ 1.000)  \\\n",
       "0                                         262076.878        \n",
       "1                                        1364693.780        \n",
       "\n",
       "   Produto Interno Bruto per capita, \\na preços correntes\\n(R$ 1,00)  \\\n",
       "0                                           10731.18                   \n",
       "1                                           15103.86                   \n",
       "\n",
       "          Atividade com maior valor adicionado bruto  \\\n",
       "0  Administração, defesa, educação e saúde públic...   \n",
       "1  Administração, defesa, educação e saúde públic...   \n",
       "\n",
       "  Atividade com segundo maior valor adicionado bruto  \\\n",
       "0               Pecuária, inclusive apoio à pecuária   \n",
       "1                                    Demais serviços   \n",
       "\n",
       "   Atividade com terceiro maior valor adicionado bruto  \n",
       "0                                    Demais serviços    \n",
       "1  Comércio e reparação de veículos automotores e...    \n",
       "\n",
       "[2 rows x 43 columns]"
      ]
     },
     "execution_count": 5,
     "metadata": {},
     "output_type": "execute_result"
    }
   ],
   "source": [
    "pib.head(2)"
   ]
  },
  {
   "cell_type": "code",
   "execution_count": 6,
   "id": "bdba26e7",
   "metadata": {},
   "outputs": [
    {
     "data": {
      "text/html": [
       "<div>\n",
       "<style scoped>\n",
       "    .dataframe tbody tr th:only-of-type {\n",
       "        vertical-align: middle;\n",
       "    }\n",
       "\n",
       "    .dataframe tbody tr th {\n",
       "        vertical-align: top;\n",
       "    }\n",
       "\n",
       "    .dataframe thead th {\n",
       "        text-align: right;\n",
       "    }\n",
       "</style>\n",
       "<table border=\"1\" class=\"dataframe\">\n",
       "  <thead>\n",
       "    <tr style=\"text-align: right;\">\n",
       "      <th></th>\n",
       "      <th>Territorialidade</th>\n",
       "      <th>Posição IDHM</th>\n",
       "      <th>IDHM</th>\n",
       "      <th>Posição IDHM Renda</th>\n",
       "      <th>IDHM Renda</th>\n",
       "      <th>Posição IDHM Educação</th>\n",
       "      <th>IDHM Educação</th>\n",
       "      <th>Posição IDHM Longevidade</th>\n",
       "      <th>IDHM Longevidade</th>\n",
       "    </tr>\n",
       "  </thead>\n",
       "  <tbody>\n",
       "    <tr>\n",
       "      <th>0</th>\n",
       "      <td>São Caetano do Sul (SP)</td>\n",
       "      <td>1</td>\n",
       "      <td>0.862</td>\n",
       "      <td>8</td>\n",
       "      <td>0.887</td>\n",
       "      <td>2</td>\n",
       "      <td>0.811</td>\n",
       "      <td>1</td>\n",
       "      <td>0.891</td>\n",
       "    </tr>\n",
       "    <tr>\n",
       "      <th>1</th>\n",
       "      <td>Águas de São Pedro (SP)</td>\n",
       "      <td>2</td>\n",
       "      <td>0.854</td>\n",
       "      <td>5</td>\n",
       "      <td>0.890</td>\n",
       "      <td>1</td>\n",
       "      <td>0.825</td>\n",
       "      <td>11</td>\n",
       "      <td>0.849</td>\n",
       "    </tr>\n",
       "  </tbody>\n",
       "</table>\n",
       "</div>"
      ],
      "text/plain": [
       "          Territorialidade  Posição IDHM   IDHM  Posição IDHM Renda  \\\n",
       "0  São Caetano do Sul (SP)             1  0.862                   8   \n",
       "1  Águas de São Pedro (SP)             2  0.854                   5   \n",
       "\n",
       "   IDHM Renda  Posição IDHM Educação  IDHM Educação  Posição IDHM Longevidade  \\\n",
       "0       0.887                      2          0.811                         1   \n",
       "1       0.890                      1          0.825                        11   \n",
       "\n",
       "   IDHM Longevidade  \n",
       "0             0.891  \n",
       "1             0.849  "
      ]
     },
     "execution_count": 6,
     "metadata": {},
     "output_type": "execute_result"
    }
   ],
   "source": [
    "idh.head(2)"
   ]
  },
  {
   "cell_type": "markdown",
   "id": "68b78780",
   "metadata": {},
   "source": [
    "# Formatando DataFrames"
   ]
  },
  {
   "cell_type": "code",
   "execution_count": 7,
   "id": "d8d1e9b3",
   "metadata": {},
   "outputs": [],
   "source": [
    "#Removendo colunas que não serão utilizadas de votos_municipio\n",
    "\n",
    "votos_municipio.drop([\"cd_cargo\", \"ds_cargo\", \"nm_candidato\", \"nr_candidato\", \"sg_partido\", \"sg_partido\", \n",
    "              \"nr_turno\", \"ds_sit_totalizacao\", \"dt_ult_totalizacao\", \"sg_ue\", \"sq_candidato\", \n",
    "              \"nm_tipo_destinacao_votos\", \"sq_eleicao_divulga\", \"ds_composicao_coligacao\"], axis=1, inplace=True)\n",
    "\n",
    "#Removendo colunas que não serão utilizadas de pop_municipio\n",
    "\n",
    "pop_municipio.drop([\"municipio\", \"uf\", \"mesoregion\", \"microregion\", \"rgint\", \"rgi\", \"osm_relation_id\",\n",
    "                    \"wikidata_id\", \"is_capital\", \"wikipedia_pt\", \"lon\", \"lat\", \"no_accents\", \"slug_name\",\n",
    "                    \"alternative_names\",], axis=1, inplace=True)\n",
    "\n",
    "# Removendo colunas que não serão utilizadas de pib\n",
    "\n",
    "pib.drop([\"Código da Grande Região\", \"Nome da Grande Região\", \"Código da Unidade da Federação\",  \n",
    "            \"Nome da Unidade da Federação\", \"Código do Município\", \"Região Metropolitana\",\n",
    "            \"Código da Mesorregião\", 'Nome da Mesorregião','Código da Microrregião', 'Nome da Microrregião',\n",
    "            'Código da Região Geográfica Imediata', 'Nome da Região Geográfica Imediata',\n",
    "            'Município da Região Geográfica Imediata','Código da Região Geográfica Intermediária',\n",
    "            'Nome da Região Geográfica Intermediária', 'Município da Região Geográfica Intermediária',\n",
    "            'Código Concentração Urbana', 'Nome Concentração Urbana','Tipo Concentração Urbana', \n",
    "            'Código Arranjo Populacional','Nome Arranjo Populacional', 'Hierarquia Urbana',\n",
    "            'Hierarquia Urbana (principais categorias)', 'Código da Região Rural', 'Nome da Região Rural',\n",
    "            'Região rural (segundo classificação do núcleo)', 'Amazônia Legal','Semiárido', \n",
    "            'Cidade-Região de São Paulo','Valor adicionado bruto da Agropecuária, \\na preços correntes\\n(R$ 1.000)',\n",
    "            \"Valor adicionado bruto da Indústria,\\na preços correntes\\n(R$ 1.000)\",\n",
    "            \"Valor adicionado bruto dos Serviços,\\na preços correntes \\n- exceto Administração, defesa, educação e saúde públicas e seguridade social\\n(R$ 1.000)\",\n",
    "            \"Valor adicionado bruto da Administração, defesa, educação e saúde públicas e seguridade social, \\na preços correntes\\n(R$ 1.000)\",\n",
    "            \"Valor adicionado bruto total, \\na preços correntes\\n(R$ 1.000)\",\n",
    "            \"Impostos, líquidos de subsídios, sobre produtos, \\na preços correntes\\n(R$ 1.000)\",\n",
    "            \"Produto Interno Bruto, \\na preços correntes\\n(R$ 1.000)\",\n",
    "            \"Atividade com maior valor adicionado bruto\",\n",
    "            \"Atividade com segundo maior valor adicionado bruto\",\n",
    "            \"Atividade com terceiro maior valor adicionado bruto\",], axis=1, inplace=True)\n",
    "\n",
    "# Removendo colunas que não serão utilizadas de idh\n",
    "\n",
    "idh.drop(['Posição IDHM', 'Posição IDHM Renda', 'IDHM Renda', 'Posição IDHM Educação', 'IDHM Educação',\n",
    "          'Posição IDHM Longevidade', 'IDHM Longevidade'], axis=1, inplace=True)\n",
    "\n",
    "# Deixando os nomes dos municipios em uppercase para posterior comparação\n",
    "\n",
    "pop_municipio['name'] = pop_municipio['name'].str.upper()"
   ]
  },
  {
   "cell_type": "code",
   "execution_count": 8,
   "id": "bd5d1733",
   "metadata": {},
   "outputs": [],
   "source": [
    "# Merge dos dataframes Votos e População\n",
    "votos_pop_municipio = pd.merge(votos_municipio, pop_municipio, left_on=['nm_municipio', 'sg_uf'], right_on=['name', 'uf_code'])\n",
    "\n",
    "# Removendo colunas extras\n",
    "votos_pop_municipio.drop([\"name\", \"uf_code\"], axis=1, inplace=True)"
   ]
  },
  {
   "cell_type": "code",
   "execution_count": 9,
   "id": "e794b0d1",
   "metadata": {},
   "outputs": [
    {
     "data": {
      "text/html": [
       "<div>\n",
       "<style scoped>\n",
       "    .dataframe tbody tr th:only-of-type {\n",
       "        vertical-align: middle;\n",
       "    }\n",
       "\n",
       "    .dataframe tbody tr th {\n",
       "        vertical-align: top;\n",
       "    }\n",
       "\n",
       "    .dataframe thead th {\n",
       "        text-align: right;\n",
       "    }\n",
       "</style>\n",
       "<table border=\"1\" class=\"dataframe\">\n",
       "  <thead>\n",
       "    <tr style=\"text-align: right;\">\n",
       "      <th></th>\n",
       "      <th>sg_uf</th>\n",
       "      <th>nm_municipio</th>\n",
       "      <th>nm_urna_candidato</th>\n",
       "      <th>qt_votos_nom_validos</th>\n",
       "      <th>pop_21</th>\n",
       "    </tr>\n",
       "  </thead>\n",
       "  <tbody>\n",
       "    <tr>\n",
       "      <th>0</th>\n",
       "      <td>AC</td>\n",
       "      <td>ACRELÂNDIA</td>\n",
       "      <td>JAIR BOLSONARO</td>\n",
       "      <td>5317</td>\n",
       "      <td>15721</td>\n",
       "    </tr>\n",
       "    <tr>\n",
       "      <th>1</th>\n",
       "      <td>AC</td>\n",
       "      <td>ACRELÂNDIA</td>\n",
       "      <td>LULA</td>\n",
       "      <td>1460</td>\n",
       "      <td>15721</td>\n",
       "    </tr>\n",
       "  </tbody>\n",
       "</table>\n",
       "</div>"
      ],
      "text/plain": [
       "  sg_uf nm_municipio nm_urna_candidato  qt_votos_nom_validos  pop_21\n",
       "0    AC   ACRELÂNDIA    JAIR BOLSONARO                  5317   15721\n",
       "1    AC   ACRELÂNDIA              LULA                  1460   15721"
      ]
     },
     "execution_count": 9,
     "metadata": {},
     "output_type": "execute_result"
    }
   ],
   "source": [
    "votos_pop_municipio.head(2)"
   ]
  },
  {
   "cell_type": "code",
   "execution_count": 10,
   "id": "fb23ee09",
   "metadata": {},
   "outputs": [],
   "source": [
    "# Filtrando range da população\n",
    "remove_municipios = votos_pop_municipio[votos_pop_municipio['pop_21'].between(1, 1000000)]\n",
    "\n",
    "# Reseta o index do Dataframe\n",
    "remove_municipios.reset_index(drop=True, inplace=True)"
   ]
  },
  {
   "cell_type": "code",
   "execution_count": 11,
   "id": "7f5de6be",
   "metadata": {},
   "outputs": [],
   "source": [
    "# Removendo os governadores que passaram para o segundo turno selecionando apenas os candidatos a presidência e concatenando os dois dataframes\n",
    "\n",
    "Votos_Lula = remove_municipios[remove_municipios['nm_urna_candidato'] == 'LULA']\n",
    "Votos_Bolsonaro = remove_municipios[remove_municipios['nm_urna_candidato'] == 'JAIR BOLSONARO']\n",
    "df_final = pd.concat([Votos_Lula, Votos_Bolsonaro], ignore_index=True)"
   ]
  },
  {
   "cell_type": "code",
   "execution_count": 12,
   "id": "49b9979c",
   "metadata": {},
   "outputs": [],
   "source": [
    "Votos_Lula.reset_index(drop=True, inplace=True)\n",
    "Votos_Bolsonaro.reset_index(drop=True, inplace=True)"
   ]
  },
  {
   "cell_type": "code",
   "execution_count": 13,
   "id": "3ed650f2",
   "metadata": {},
   "outputs": [
    {
     "data": {
      "text/html": [
       "<div>\n",
       "<style scoped>\n",
       "    .dataframe tbody tr th:only-of-type {\n",
       "        vertical-align: middle;\n",
       "    }\n",
       "\n",
       "    .dataframe tbody tr th {\n",
       "        vertical-align: top;\n",
       "    }\n",
       "\n",
       "    .dataframe thead th {\n",
       "        text-align: right;\n",
       "    }\n",
       "</style>\n",
       "<table border=\"1\" class=\"dataframe\">\n",
       "  <thead>\n",
       "    <tr style=\"text-align: right;\">\n",
       "      <th></th>\n",
       "      <th>sg_uf</th>\n",
       "      <th>nm_municipio</th>\n",
       "      <th>nm_urna_candidato</th>\n",
       "      <th>qt_votos_nom_validos</th>\n",
       "      <th>pop_21</th>\n",
       "    </tr>\n",
       "  </thead>\n",
       "  <tbody>\n",
       "    <tr>\n",
       "      <th>0</th>\n",
       "      <td>AC</td>\n",
       "      <td>ACRELÂNDIA</td>\n",
       "      <td>LULA</td>\n",
       "      <td>1460</td>\n",
       "      <td>15721</td>\n",
       "    </tr>\n",
       "    <tr>\n",
       "      <th>1</th>\n",
       "      <td>AC</td>\n",
       "      <td>ASSIS BRASIL</td>\n",
       "      <td>LULA</td>\n",
       "      <td>1895</td>\n",
       "      <td>7649</td>\n",
       "    </tr>\n",
       "  </tbody>\n",
       "</table>\n",
       "</div>"
      ],
      "text/plain": [
       "  sg_uf  nm_municipio nm_urna_candidato  qt_votos_nom_validos  pop_21\n",
       "0    AC    ACRELÂNDIA              LULA                  1460   15721\n",
       "1    AC  ASSIS BRASIL              LULA                  1895    7649"
      ]
     },
     "execution_count": 13,
     "metadata": {},
     "output_type": "execute_result"
    }
   ],
   "source": [
    "Votos_Lula.head(2)"
   ]
  },
  {
   "cell_type": "code",
   "execution_count": 14,
   "id": "cc34391f",
   "metadata": {},
   "outputs": [
    {
     "data": {
      "text/html": [
       "<div>\n",
       "<style scoped>\n",
       "    .dataframe tbody tr th:only-of-type {\n",
       "        vertical-align: middle;\n",
       "    }\n",
       "\n",
       "    .dataframe tbody tr th {\n",
       "        vertical-align: top;\n",
       "    }\n",
       "\n",
       "    .dataframe thead th {\n",
       "        text-align: right;\n",
       "    }\n",
       "</style>\n",
       "<table border=\"1\" class=\"dataframe\">\n",
       "  <thead>\n",
       "    <tr style=\"text-align: right;\">\n",
       "      <th></th>\n",
       "      <th>sg_uf</th>\n",
       "      <th>nm_municipio</th>\n",
       "      <th>nm_urna_candidato</th>\n",
       "      <th>qt_votos_nom_validos</th>\n",
       "      <th>pop_21</th>\n",
       "    </tr>\n",
       "  </thead>\n",
       "  <tbody>\n",
       "    <tr>\n",
       "      <th>0</th>\n",
       "      <td>AC</td>\n",
       "      <td>ACRELÂNDIA</td>\n",
       "      <td>JAIR BOLSONARO</td>\n",
       "      <td>5317</td>\n",
       "      <td>15721</td>\n",
       "    </tr>\n",
       "    <tr>\n",
       "      <th>1</th>\n",
       "      <td>AC</td>\n",
       "      <td>ASSIS BRASIL</td>\n",
       "      <td>JAIR BOLSONARO</td>\n",
       "      <td>2717</td>\n",
       "      <td>7649</td>\n",
       "    </tr>\n",
       "  </tbody>\n",
       "</table>\n",
       "</div>"
      ],
      "text/plain": [
       "  sg_uf  nm_municipio nm_urna_candidato  qt_votos_nom_validos  pop_21\n",
       "0    AC    ACRELÂNDIA    JAIR BOLSONARO                  5317   15721\n",
       "1    AC  ASSIS BRASIL    JAIR BOLSONARO                  2717    7649"
      ]
     },
     "execution_count": 14,
     "metadata": {},
     "output_type": "execute_result"
    }
   ],
   "source": [
    "Votos_Bolsonaro.head(2)"
   ]
  },
  {
   "cell_type": "markdown",
   "id": "486e4ee1",
   "metadata": {},
   "source": [
    "# Construindo um novo DataFrame"
   ]
  },
  {
   "cell_type": "code",
   "execution_count": 15,
   "id": "2b740ac4",
   "metadata": {},
   "outputs": [],
   "source": [
    "df = pd.DataFrame(columns=['sg_uf','nm_municipio','Vencedor'])"
   ]
  },
  {
   "cell_type": "code",
   "execution_count": 16,
   "id": "d41172f3",
   "metadata": {},
   "outputs": [],
   "source": [
    "# Preenchendo o dataFrame com UF e Municipio e False para Bolsonaro vencedor e True para Lula Vencedor\n",
    "\n",
    "for item in Votos_Lula['nm_municipio']:\n",
    "    df['sg_uf'] = Votos_Lula['sg_uf']\n",
    "    df['nm_municipio'] = Votos_Lula['nm_municipio']\n",
    "    df['Vencedor'] = Votos_Lula['qt_votos_nom_validos'] > Votos_Bolsonaro['qt_votos_nom_validos']"
   ]
  },
  {
   "cell_type": "code",
   "execution_count": 17,
   "id": "d2d2f1d7",
   "metadata": {},
   "outputs": [
    {
     "data": {
      "text/html": [
       "<div>\n",
       "<style scoped>\n",
       "    .dataframe tbody tr th:only-of-type {\n",
       "        vertical-align: middle;\n",
       "    }\n",
       "\n",
       "    .dataframe tbody tr th {\n",
       "        vertical-align: top;\n",
       "    }\n",
       "\n",
       "    .dataframe thead th {\n",
       "        text-align: right;\n",
       "    }\n",
       "</style>\n",
       "<table border=\"1\" class=\"dataframe\">\n",
       "  <thead>\n",
       "    <tr style=\"text-align: right;\">\n",
       "      <th></th>\n",
       "      <th>sg_uf</th>\n",
       "      <th>nm_municipio</th>\n",
       "      <th>Vencedor</th>\n",
       "    </tr>\n",
       "  </thead>\n",
       "  <tbody>\n",
       "    <tr>\n",
       "      <th>0</th>\n",
       "      <td>AC</td>\n",
       "      <td>ACRELÂNDIA</td>\n",
       "      <td>False</td>\n",
       "    </tr>\n",
       "    <tr>\n",
       "      <th>1</th>\n",
       "      <td>AC</td>\n",
       "      <td>ASSIS BRASIL</td>\n",
       "      <td>False</td>\n",
       "    </tr>\n",
       "    <tr>\n",
       "      <th>2</th>\n",
       "      <td>AC</td>\n",
       "      <td>BRASILÉIA</td>\n",
       "      <td>False</td>\n",
       "    </tr>\n",
       "    <tr>\n",
       "      <th>3</th>\n",
       "      <td>AC</td>\n",
       "      <td>BUJARI</td>\n",
       "      <td>False</td>\n",
       "    </tr>\n",
       "    <tr>\n",
       "      <th>4</th>\n",
       "      <td>AC</td>\n",
       "      <td>CAPIXABA</td>\n",
       "      <td>False</td>\n",
       "    </tr>\n",
       "  </tbody>\n",
       "</table>\n",
       "</div>"
      ],
      "text/plain": [
       "  sg_uf  nm_municipio  Vencedor\n",
       "0    AC    ACRELÂNDIA     False\n",
       "1    AC  ASSIS BRASIL     False\n",
       "2    AC     BRASILÉIA     False\n",
       "3    AC        BUJARI     False\n",
       "4    AC      CAPIXABA     False"
      ]
     },
     "execution_count": 17,
     "metadata": {},
     "output_type": "execute_result"
    }
   ],
   "source": [
    "df.head()"
   ]
  },
  {
   "cell_type": "code",
   "execution_count": 36,
   "id": "d882a3cb",
   "metadata": {},
   "outputs": [],
   "source": [
    "# Alterando valor de True e False\n",
    "\n",
    "df['Vencedor'].loc[(df['Vencedor'] == True)] = 'LULA'\n",
    "df['Vencedor'].loc[(df['Vencedor'] == False)] = 'JAIR BOLSONARO'\n",
    "warnings.filterwarnings('ignore')"
   ]
  },
  {
   "cell_type": "code",
   "execution_count": 19,
   "id": "54ab33d4",
   "metadata": {},
   "outputs": [
    {
     "data": {
      "text/html": [
       "<div>\n",
       "<style scoped>\n",
       "    .dataframe tbody tr th:only-of-type {\n",
       "        vertical-align: middle;\n",
       "    }\n",
       "\n",
       "    .dataframe tbody tr th {\n",
       "        vertical-align: top;\n",
       "    }\n",
       "\n",
       "    .dataframe thead th {\n",
       "        text-align: right;\n",
       "    }\n",
       "</style>\n",
       "<table border=\"1\" class=\"dataframe\">\n",
       "  <thead>\n",
       "    <tr style=\"text-align: right;\">\n",
       "      <th></th>\n",
       "      <th>sg_uf</th>\n",
       "      <th>nm_municipio</th>\n",
       "      <th>Vencedor</th>\n",
       "    </tr>\n",
       "  </thead>\n",
       "  <tbody>\n",
       "    <tr>\n",
       "      <th>0</th>\n",
       "      <td>AC</td>\n",
       "      <td>ACRELÂNDIA</td>\n",
       "      <td>JAIR BOLSONARO</td>\n",
       "    </tr>\n",
       "    <tr>\n",
       "      <th>1</th>\n",
       "      <td>AC</td>\n",
       "      <td>ASSIS BRASIL</td>\n",
       "      <td>JAIR BOLSONARO</td>\n",
       "    </tr>\n",
       "    <tr>\n",
       "      <th>2</th>\n",
       "      <td>AC</td>\n",
       "      <td>BRASILÉIA</td>\n",
       "      <td>JAIR BOLSONARO</td>\n",
       "    </tr>\n",
       "    <tr>\n",
       "      <th>3</th>\n",
       "      <td>AC</td>\n",
       "      <td>BUJARI</td>\n",
       "      <td>JAIR BOLSONARO</td>\n",
       "    </tr>\n",
       "    <tr>\n",
       "      <th>4</th>\n",
       "      <td>AC</td>\n",
       "      <td>CAPIXABA</td>\n",
       "      <td>JAIR BOLSONARO</td>\n",
       "    </tr>\n",
       "  </tbody>\n",
       "</table>\n",
       "</div>"
      ],
      "text/plain": [
       "  sg_uf  nm_municipio        Vencedor\n",
       "0    AC    ACRELÂNDIA  JAIR BOLSONARO\n",
       "1    AC  ASSIS BRASIL  JAIR BOLSONARO\n",
       "2    AC     BRASILÉIA  JAIR BOLSONARO\n",
       "3    AC        BUJARI  JAIR BOLSONARO\n",
       "4    AC      CAPIXABA  JAIR BOLSONARO"
      ]
     },
     "execution_count": 19,
     "metadata": {},
     "output_type": "execute_result"
    }
   ],
   "source": [
    "df.head()"
   ]
  },
  {
   "cell_type": "code",
   "execution_count": 20,
   "id": "0bb808ce",
   "metadata": {},
   "outputs": [
    {
     "name": "stdout",
     "output_type": "stream",
     "text": [
      "2425\n",
      "3089\n"
     ]
    }
   ],
   "source": [
    "# Checando em quantos municipios o Bolsonaro venceu e em quantos municipios o Lula venceu\n",
    "\n",
    "vitoriasLula = 0;\n",
    "vitoriasBolsonaro = 0;\n",
    "for item in df['Vencedor']:\n",
    "    if item == 'JAIR BOLSONARO':\n",
    "        vitoriasBolsonaro +=1\n",
    "    else:\n",
    "        vitoriasLula +=1\n",
    "\n",
    "print(vitoriasBolsonaro)\n",
    "print(vitoriasLula)"
   ]
  },
  {
   "cell_type": "markdown",
   "id": "06fe46df",
   "metadata": {},
   "source": [
    "# Adicionando PIB ao DataFrame"
   ]
  },
  {
   "cell_type": "code",
   "execution_count": 21,
   "id": "83b7f929",
   "metadata": {},
   "outputs": [],
   "source": [
    "# Renomenando as Colunas\n",
    "pib.rename(columns={'Nome do Município': 'nm_municipio',\n",
    "                    'Sigla da Unidade da Federação': 'sg_uf',\n",
    "                    'Produto Interno Bruto per capita, \\na preços correntes\\n(R$ 1,00)': 'pib_per_capita'\n",
    "                   }, inplace = True)\n",
    "\n",
    "# Deixando o nome dos municipios em maisculo para padronização\n",
    "pib['nm_municipio'] = pib['nm_municipio'].str.upper()\n",
    "\n",
    "# Transformando o PIB em INT\n",
    "pib['pib_per_capita'] = pib['pib_per_capita'].astype(int)"
   ]
  },
  {
   "cell_type": "code",
   "execution_count": 22,
   "id": "ccf48ed8",
   "metadata": {},
   "outputs": [
    {
     "data": {
      "text/html": [
       "<div>\n",
       "<style scoped>\n",
       "    .dataframe tbody tr th:only-of-type {\n",
       "        vertical-align: middle;\n",
       "    }\n",
       "\n",
       "    .dataframe tbody tr th {\n",
       "        vertical-align: top;\n",
       "    }\n",
       "\n",
       "    .dataframe thead th {\n",
       "        text-align: right;\n",
       "    }\n",
       "</style>\n",
       "<table border=\"1\" class=\"dataframe\">\n",
       "  <thead>\n",
       "    <tr style=\"text-align: right;\">\n",
       "      <th></th>\n",
       "      <th>Ano</th>\n",
       "      <th>sg_uf</th>\n",
       "      <th>nm_municipio</th>\n",
       "      <th>pib_per_capita</th>\n",
       "    </tr>\n",
       "  </thead>\n",
       "  <tbody>\n",
       "    <tr>\n",
       "      <th>0</th>\n",
       "      <td>2010</td>\n",
       "      <td>RO</td>\n",
       "      <td>ALTA FLORESTA D'OESTE</td>\n",
       "      <td>10731</td>\n",
       "    </tr>\n",
       "    <tr>\n",
       "      <th>1</th>\n",
       "      <td>2010</td>\n",
       "      <td>RO</td>\n",
       "      <td>ARIQUEMES</td>\n",
       "      <td>15103</td>\n",
       "    </tr>\n",
       "    <tr>\n",
       "      <th>2</th>\n",
       "      <td>2010</td>\n",
       "      <td>RO</td>\n",
       "      <td>CABIXI</td>\n",
       "      <td>11033</td>\n",
       "    </tr>\n",
       "    <tr>\n",
       "      <th>3</th>\n",
       "      <td>2010</td>\n",
       "      <td>RO</td>\n",
       "      <td>CACOAL</td>\n",
       "      <td>15095</td>\n",
       "    </tr>\n",
       "    <tr>\n",
       "      <th>4</th>\n",
       "      <td>2010</td>\n",
       "      <td>RO</td>\n",
       "      <td>CEREJEIRAS</td>\n",
       "      <td>13037</td>\n",
       "    </tr>\n",
       "  </tbody>\n",
       "</table>\n",
       "</div>"
      ],
      "text/plain": [
       "    Ano sg_uf           nm_municipio  pib_per_capita\n",
       "0  2010    RO  ALTA FLORESTA D'OESTE           10731\n",
       "1  2010    RO              ARIQUEMES           15103\n",
       "2  2010    RO                 CABIXI           11033\n",
       "3  2010    RO                 CACOAL           15095\n",
       "4  2010    RO             CEREJEIRAS           13037"
      ]
     },
     "execution_count": 22,
     "metadata": {},
     "output_type": "execute_result"
    }
   ],
   "source": [
    "pib.head()"
   ]
  },
  {
   "cell_type": "code",
   "execution_count": 23,
   "id": "4ddc895b",
   "metadata": {},
   "outputs": [],
   "source": [
    "# Pegando apenas o Ano de 2020 (mais recente)\n",
    "pib = pib[pib['Ano'] == 2020]"
   ]
  },
  {
   "cell_type": "code",
   "execution_count": 24,
   "id": "4b41e38f",
   "metadata": {},
   "outputs": [
    {
     "data": {
      "text/html": [
       "<div>\n",
       "<style scoped>\n",
       "    .dataframe tbody tr th:only-of-type {\n",
       "        vertical-align: middle;\n",
       "    }\n",
       "\n",
       "    .dataframe tbody tr th {\n",
       "        vertical-align: top;\n",
       "    }\n",
       "\n",
       "    .dataframe thead th {\n",
       "        text-align: right;\n",
       "    }\n",
       "</style>\n",
       "<table border=\"1\" class=\"dataframe\">\n",
       "  <thead>\n",
       "    <tr style=\"text-align: right;\">\n",
       "      <th></th>\n",
       "      <th>Ano</th>\n",
       "      <th>sg_uf</th>\n",
       "      <th>nm_municipio</th>\n",
       "      <th>pib_per_capita</th>\n",
       "    </tr>\n",
       "  </thead>\n",
       "  <tbody>\n",
       "    <tr>\n",
       "      <th>55685</th>\n",
       "      <td>2020</td>\n",
       "      <td>RO</td>\n",
       "      <td>ALTA FLORESTA D'OESTE</td>\n",
       "      <td>25091</td>\n",
       "    </tr>\n",
       "    <tr>\n",
       "      <th>55686</th>\n",
       "      <td>2020</td>\n",
       "      <td>RO</td>\n",
       "      <td>ARIQUEMES</td>\n",
       "      <td>25730</td>\n",
       "    </tr>\n",
       "  </tbody>\n",
       "</table>\n",
       "</div>"
      ],
      "text/plain": [
       "        Ano sg_uf           nm_municipio  pib_per_capita\n",
       "55685  2020    RO  ALTA FLORESTA D'OESTE           25091\n",
       "55686  2020    RO              ARIQUEMES           25730"
      ]
     },
     "execution_count": 24,
     "metadata": {},
     "output_type": "execute_result"
    }
   ],
   "source": [
    "pib.head(2)"
   ]
  },
  {
   "cell_type": "code",
   "execution_count": 25,
   "id": "5911c149",
   "metadata": {},
   "outputs": [],
   "source": [
    "# Merge entre o DF e o PIB com sigla UF pois existe diversos municipios com nomes iguais no Brasil\n",
    "vencedor_pib = pd.merge(df, pib, left_on=['nm_municipio', 'sg_uf'], right_on=['nm_municipio', 'sg_uf'])"
   ]
  },
  {
   "cell_type": "code",
   "execution_count": 26,
   "id": "c0a420e1",
   "metadata": {},
   "outputs": [],
   "source": [
    "# Removendo a coluna Ano do Dataframe\n",
    "vencedor_pib.drop(['Ano'], axis=1, inplace=True)"
   ]
  },
  {
   "cell_type": "code",
   "execution_count": 27,
   "id": "291aad0a",
   "metadata": {},
   "outputs": [
    {
     "data": {
      "text/html": [
       "<div>\n",
       "<style scoped>\n",
       "    .dataframe tbody tr th:only-of-type {\n",
       "        vertical-align: middle;\n",
       "    }\n",
       "\n",
       "    .dataframe tbody tr th {\n",
       "        vertical-align: top;\n",
       "    }\n",
       "\n",
       "    .dataframe thead th {\n",
       "        text-align: right;\n",
       "    }\n",
       "</style>\n",
       "<table border=\"1\" class=\"dataframe\">\n",
       "  <thead>\n",
       "    <tr style=\"text-align: right;\">\n",
       "      <th></th>\n",
       "      <th>sg_uf</th>\n",
       "      <th>nm_municipio</th>\n",
       "      <th>Vencedor</th>\n",
       "      <th>pib_per_capita</th>\n",
       "    </tr>\n",
       "  </thead>\n",
       "  <tbody>\n",
       "    <tr>\n",
       "      <th>0</th>\n",
       "      <td>AC</td>\n",
       "      <td>ACRELÂNDIA</td>\n",
       "      <td>JAIR BOLSONARO</td>\n",
       "      <td>19525</td>\n",
       "    </tr>\n",
       "    <tr>\n",
       "      <th>1</th>\n",
       "      <td>AC</td>\n",
       "      <td>ASSIS BRASIL</td>\n",
       "      <td>JAIR BOLSONARO</td>\n",
       "      <td>12864</td>\n",
       "    </tr>\n",
       "    <tr>\n",
       "      <th>2</th>\n",
       "      <td>AC</td>\n",
       "      <td>BRASILÉIA</td>\n",
       "      <td>JAIR BOLSONARO</td>\n",
       "      <td>17981</td>\n",
       "    </tr>\n",
       "    <tr>\n",
       "      <th>3</th>\n",
       "      <td>AC</td>\n",
       "      <td>BUJARI</td>\n",
       "      <td>JAIR BOLSONARO</td>\n",
       "      <td>17640</td>\n",
       "    </tr>\n",
       "    <tr>\n",
       "      <th>4</th>\n",
       "      <td>AC</td>\n",
       "      <td>CAPIXABA</td>\n",
       "      <td>JAIR BOLSONARO</td>\n",
       "      <td>12101</td>\n",
       "    </tr>\n",
       "    <tr>\n",
       "      <th>5</th>\n",
       "      <td>AC</td>\n",
       "      <td>CRUZEIRO DO SUL</td>\n",
       "      <td>JAIR BOLSONARO</td>\n",
       "      <td>17024</td>\n",
       "    </tr>\n",
       "    <tr>\n",
       "      <th>6</th>\n",
       "      <td>AC</td>\n",
       "      <td>EPITACIOLÂNDIA</td>\n",
       "      <td>JAIR BOLSONARO</td>\n",
       "      <td>23156</td>\n",
       "    </tr>\n",
       "    <tr>\n",
       "      <th>7</th>\n",
       "      <td>AC</td>\n",
       "      <td>FEIJÓ</td>\n",
       "      <td>LULA</td>\n",
       "      <td>11263</td>\n",
       "    </tr>\n",
       "    <tr>\n",
       "      <th>8</th>\n",
       "      <td>AC</td>\n",
       "      <td>JORDÃO</td>\n",
       "      <td>LULA</td>\n",
       "      <td>10020</td>\n",
       "    </tr>\n",
       "    <tr>\n",
       "      <th>9</th>\n",
       "      <td>AC</td>\n",
       "      <td>MANOEL URBANO</td>\n",
       "      <td>JAIR BOLSONARO</td>\n",
       "      <td>14342</td>\n",
       "    </tr>\n",
       "  </tbody>\n",
       "</table>\n",
       "</div>"
      ],
      "text/plain": [
       "  sg_uf     nm_municipio        Vencedor  pib_per_capita\n",
       "0    AC       ACRELÂNDIA  JAIR BOLSONARO           19525\n",
       "1    AC     ASSIS BRASIL  JAIR BOLSONARO           12864\n",
       "2    AC        BRASILÉIA  JAIR BOLSONARO           17981\n",
       "3    AC           BUJARI  JAIR BOLSONARO           17640\n",
       "4    AC         CAPIXABA  JAIR BOLSONARO           12101\n",
       "5    AC  CRUZEIRO DO SUL  JAIR BOLSONARO           17024\n",
       "6    AC   EPITACIOLÂNDIA  JAIR BOLSONARO           23156\n",
       "7    AC            FEIJÓ            LULA           11263\n",
       "8    AC           JORDÃO            LULA           10020\n",
       "9    AC    MANOEL URBANO  JAIR BOLSONARO           14342"
      ]
     },
     "execution_count": 27,
     "metadata": {},
     "output_type": "execute_result"
    }
   ],
   "source": [
    "vencedor_pib.head(10)"
   ]
  },
  {
   "cell_type": "code",
   "execution_count": 28,
   "id": "56cf3228",
   "metadata": {},
   "outputs": [],
   "source": [
    "# Filtrando o valor maximo do PIB e renomeando a coluna\n",
    "final_df = vencedor_pib[vencedor_pib['pib_per_capita'] <= 50000]\n",
    "final_df.rename(columns={'pib_per_capita': 'PIB Per Capita'}, inplace = True)\n",
    "warnings.filterwarnings('ignore')"
   ]
  },
  {
   "cell_type": "markdown",
   "id": "8abb6462",
   "metadata": {},
   "source": [
    "# Visualização PIB"
   ]
  },
  {
   "cell_type": "code",
   "execution_count": 29,
   "id": "579ecd53",
   "metadata": {},
   "outputs": [],
   "source": [
    "# Style dos gráficos\n",
    "sns.set(style = 'darkgrid')\n",
    "my_colors = [\"#003EFF\", \"#FF0000\",\n",
    "             \"#2ecc71\", \"#006a4e\"]\n",
    "sns.set_palette( my_colors )"
   ]
  },
  {
   "cell_type": "code",
   "execution_count": 30,
   "id": "7c203903",
   "metadata": {},
   "outputs": [
    {
     "data": {
      "text/plain": [
       "<AxesSubplot:xlabel='Vencedor', ylabel='PIB Per Capita'>"
      ]
     },
     "execution_count": 30,
     "metadata": {},
     "output_type": "execute_result"
    },
    {
     "data": {
      "image/png": "[encoded data removed]",
      "text/plain": [
       "<Figure size 640x480 with 1 Axes>"
      ]
     },
     "metadata": {},
     "output_type": "display_data"
    }
   ],
   "source": [
    "sns.boxplot(data=final_df, x=\"Vencedor\", y=\"PIB Per Capita\", hue=\"Vencedor\", notch=True, showcaps=False,medianprops={\"color\": \"coral\"}, showfliers=False)"
   ]
  },
  {
   "cell_type": "code",
   "execution_count": 31,
   "id": "c2f119b5",
   "metadata": {},
   "outputs": [
    {
     "data": {
      "text/plain": [
       "<AxesSubplot:xlabel='PIB Per Capita', ylabel='Vencedor'>"
      ]
     },
     "execution_count": 31,
     "metadata": {},
     "output_type": "execute_result"
    },
    {
     "data": {
      "image/png": "[encoded data removed]",
      "text/plain": [
       "<Figure size 640x480 with 1 Axes>"
      ]
     },
     "metadata": {},
     "output_type": "display_data"
    }
   ],
   "source": [
    "sns.stripplot(y=\"Vencedor\", x=\"PIB Per Capita\", data=final_df, jitter=0.2, linewidth=0.3)"
   ]
  },
  {
   "cell_type": "markdown",
   "id": "21536d99",
   "metadata": {},
   "source": [
    "# Adicionando IDH ao DataFrame"
   ]
  },
  {
   "cell_type": "code",
   "execution_count": 32,
   "id": "7d099f52",
   "metadata": {},
   "outputs": [],
   "source": [
    "# Deixando o nome dos municipios em maisculo para padronização\n",
    "\n",
    "idh['Territorialidade'] = idh['Territorialidade'].str.upper()\n",
    "\n",
    "# Removendo a sigla referente ao estado dos municipios de IDH e criando a coluna sg_uf \n",
    "\n",
    "Splited_idh = idh['Territorialidade'].str.split(pat = '(', expand = True)\n",
    "idh['Territorialidade'] = Splited_idh[0]\n",
    "Splited_uf = Splited_idh[1].str.split(pat = ')', expand = True)\n",
    "idh['sg_uf'] = Splited_uf[0]\n",
    "\n",
    "# Renomeando colunas\n",
    "\n",
    "idh.rename(columns={'Territorialidade': 'nm_municipio'}, inplace = True)\n",
    "\n",
    "# Removendo lixo do conteúdo splitado\n",
    "\n",
    "idh['nm_municipio'] = [m.strip() for m in idh['nm_municipio']]\n",
    "idh['sg_uf'] = [u.strip() for u in idh['sg_uf']]"
   ]
  },
  {
   "cell_type": "code",
   "execution_count": 33,
   "id": "34aa14ba",
   "metadata": {},
   "outputs": [
    {
     "data": {
      "text/html": [
       "<div>\n",
       "<style scoped>\n",
       "    .dataframe tbody tr th:only-of-type {\n",
       "        vertical-align: middle;\n",
       "    }\n",
       "\n",
       "    .dataframe tbody tr th {\n",
       "        vertical-align: top;\n",
       "    }\n",
       "\n",
       "    .dataframe thead th {\n",
       "        text-align: right;\n",
       "    }\n",
       "</style>\n",
       "<table border=\"1\" class=\"dataframe\">\n",
       "  <thead>\n",
       "    <tr style=\"text-align: right;\">\n",
       "      <th></th>\n",
       "      <th>nm_municipio</th>\n",
       "      <th>IDHM</th>\n",
       "      <th>sg_uf</th>\n",
       "    </tr>\n",
       "  </thead>\n",
       "  <tbody>\n",
       "    <tr>\n",
       "      <th>0</th>\n",
       "      <td>SÃO CAETANO DO SUL</td>\n",
       "      <td>0.862</td>\n",
       "      <td>SP</td>\n",
       "    </tr>\n",
       "    <tr>\n",
       "      <th>1</th>\n",
       "      <td>ÁGUAS DE SÃO PEDRO</td>\n",
       "      <td>0.854</td>\n",
       "      <td>SP</td>\n",
       "    </tr>\n",
       "  </tbody>\n",
       "</table>\n",
       "</div>"
      ],
      "text/plain": [
       "         nm_municipio   IDHM sg_uf\n",
       "0  SÃO CAETANO DO SUL  0.862    SP\n",
       "1  ÁGUAS DE SÃO PEDRO  0.854    SP"
      ]
     },
     "execution_count": 33,
     "metadata": {},
     "output_type": "execute_result"
    }
   ],
   "source": [
    "idh.head(2)"
   ]
  },
  {
   "cell_type": "code",
   "execution_count": 34,
   "id": "4a778631",
   "metadata": {},
   "outputs": [],
   "source": [
    "# Merge entre o vencedor_pib e o IDH com sigla UF pois existe diversos municipios com nomes iguais no Brasil\n",
    "vencedor_pib_idh = pd.merge(vencedor_pib, idh, left_on=['sg_uf', 'nm_municipio'], right_on=['sg_uf', 'nm_municipio'])"
   ]
  },
  {
   "cell_type": "code",
   "execution_count": 35,
   "id": "f9e03350",
   "metadata": {},
   "outputs": [
    {
     "data": {
      "text/html": [
       "<div>\n",
       "<style scoped>\n",
       "    .dataframe tbody tr th:only-of-type {\n",
       "        vertical-align: middle;\n",
       "    }\n",
       "\n",
       "    .dataframe tbody tr th {\n",
       "        vertical-align: top;\n",
       "    }\n",
       "\n",
       "    .dataframe thead th {\n",
       "        text-align: right;\n",
       "    }\n",
       "</style>\n",
       "<table border=\"1\" class=\"dataframe\">\n",
       "  <thead>\n",
       "    <tr style=\"text-align: right;\">\n",
       "      <th></th>\n",
       "      <th>sg_uf</th>\n",
       "      <th>nm_municipio</th>\n",
       "      <th>Vencedor</th>\n",
       "      <th>pib_per_capita</th>\n",
       "      <th>IDHM</th>\n",
       "    </tr>\n",
       "  </thead>\n",
       "  <tbody>\n",
       "    <tr>\n",
       "      <th>0</th>\n",
       "      <td>AC</td>\n",
       "      <td>ACRELÂNDIA</td>\n",
       "      <td>JAIR BOLSONARO</td>\n",
       "      <td>19525</td>\n",
       "      <td>0.604</td>\n",
       "    </tr>\n",
       "    <tr>\n",
       "      <th>1</th>\n",
       "      <td>AC</td>\n",
       "      <td>ASSIS BRASIL</td>\n",
       "      <td>JAIR BOLSONARO</td>\n",
       "      <td>12864</td>\n",
       "      <td>0.588</td>\n",
       "    </tr>\n",
       "    <tr>\n",
       "      <th>2</th>\n",
       "      <td>AC</td>\n",
       "      <td>BRASILÉIA</td>\n",
       "      <td>JAIR BOLSONARO</td>\n",
       "      <td>17981</td>\n",
       "      <td>0.614</td>\n",
       "    </tr>\n",
       "    <tr>\n",
       "      <th>3</th>\n",
       "      <td>AC</td>\n",
       "      <td>BUJARI</td>\n",
       "      <td>JAIR BOLSONARO</td>\n",
       "      <td>17640</td>\n",
       "      <td>0.589</td>\n",
       "    </tr>\n",
       "    <tr>\n",
       "      <th>4</th>\n",
       "      <td>AC</td>\n",
       "      <td>CAPIXABA</td>\n",
       "      <td>JAIR BOLSONARO</td>\n",
       "      <td>12101</td>\n",
       "      <td>0.575</td>\n",
       "    </tr>\n",
       "    <tr>\n",
       "      <th>...</th>\n",
       "      <td>...</td>\n",
       "      <td>...</td>\n",
       "      <td>...</td>\n",
       "      <td>...</td>\n",
       "      <td>...</td>\n",
       "    </tr>\n",
       "    <tr>\n",
       "      <th>5485</th>\n",
       "      <td>TO</td>\n",
       "      <td>TOCANTÍNIA</td>\n",
       "      <td>LULA</td>\n",
       "      <td>17744</td>\n",
       "      <td>0.589</td>\n",
       "    </tr>\n",
       "    <tr>\n",
       "      <th>5486</th>\n",
       "      <td>TO</td>\n",
       "      <td>TUPIRAMA</td>\n",
       "      <td>LULA</td>\n",
       "      <td>49193</td>\n",
       "      <td>0.670</td>\n",
       "    </tr>\n",
       "    <tr>\n",
       "      <th>5487</th>\n",
       "      <td>TO</td>\n",
       "      <td>TUPIRATINS</td>\n",
       "      <td>LULA</td>\n",
       "      <td>12384</td>\n",
       "      <td>0.587</td>\n",
       "    </tr>\n",
       "    <tr>\n",
       "      <th>5488</th>\n",
       "      <td>TO</td>\n",
       "      <td>WANDERLÂNDIA</td>\n",
       "      <td>LULA</td>\n",
       "      <td>12775</td>\n",
       "      <td>0.638</td>\n",
       "    </tr>\n",
       "    <tr>\n",
       "      <th>5489</th>\n",
       "      <td>TO</td>\n",
       "      <td>XAMBIOÁ</td>\n",
       "      <td>JAIR BOLSONARO</td>\n",
       "      <td>28132</td>\n",
       "      <td>0.671</td>\n",
       "    </tr>\n",
       "  </tbody>\n",
       "</table>\n",
       "<p>5490 rows × 5 columns</p>\n",
       "</div>"
      ],
      "text/plain": [
       "     sg_uf  nm_municipio        Vencedor  pib_per_capita   IDHM\n",
       "0       AC    ACRELÂNDIA  JAIR BOLSONARO           19525  0.604\n",
       "1       AC  ASSIS BRASIL  JAIR BOLSONARO           12864  0.588\n",
       "2       AC     BRASILÉIA  JAIR BOLSONARO           17981  0.614\n",
       "3       AC        BUJARI  JAIR BOLSONARO           17640  0.589\n",
       "4       AC      CAPIXABA  JAIR BOLSONARO           12101  0.575\n",
       "...    ...           ...             ...             ...    ...\n",
       "5485    TO    TOCANTÍNIA            LULA           17744  0.589\n",
       "5486    TO      TUPIRAMA            LULA           49193  0.670\n",
       "5487    TO    TUPIRATINS            LULA           12384  0.587\n",
       "5488    TO  WANDERLÂNDIA            LULA           12775  0.638\n",
       "5489    TO       XAMBIOÁ  JAIR BOLSONARO           28132  0.671\n",
       "\n",
       "[5490 rows x 5 columns]"
      ]
     },
     "execution_count": 35,
     "metadata": {},
     "output_type": "execute_result"
    }
   ],
   "source": [
    "vencedor_pib_idh"
   ]
  },
  {
   "cell_type": "markdown",
   "id": "657115b9",
   "metadata": {},
   "source": [
    "# Visualização IDH"
   ]
  },
  {
   "cell_type": "code",
   "execution_count": 38,
   "id": "b995f8a7",
   "metadata": {},
   "outputs": [
    {
     "data": {
      "text/plain": [
       "<AxesSubplot:xlabel='Vencedor', ylabel='IDHM'>"
      ]
     },
     "execution_count": 38,
     "metadata": {},
     "output_type": "execute_result"
    },
    {
     "data": {
      "image/png": "[encoded data removed]",
      "text/plain": [
       "<Figure size 640x480 with 1 Axes>"
      ]
     },
     "metadata": {},
     "output_type": "display_data"
    }
   ],
   "source": [
    "sns.boxplot(data=vencedor_pib_idh, x=\"Vencedor\", y=\"IDHM\", hue=\"Vencedor\", notch=True, showcaps=False,medianprops={\"color\": \"coral\"}, showfliers=False)"
   ]
  }
 ],
 "metadata": {
  "kernelspec": {
   "display_name": "Python 3 (ipykernel)",
   "language": "python",
   "name": "python3"
  },
  "language_info": {
   "codemirror_mode": {
    "name": "ipython",
    "version": 3
   },
   "file_extension": ".py",
   "mimetype": "text/x-python",
   "name": "python",
   "nbconvert_exporter": "python",
   "pygments_lexer": "ipython3",
   "version": "3.9.12"
  }
 },
 "nbformat": 4,
 "nbformat_minor": 5
}
