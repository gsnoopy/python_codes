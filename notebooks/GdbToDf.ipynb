{
 "cells": [
  {
   "cell_type": "code",
   "execution_count": 2,
   "metadata": {},
   "outputs": [],
   "source": [
    "import pandas as pd"
   ]
  },
  {
   "cell_type": "code",
   "execution_count": 3,
   "metadata": {},
   "outputs": [],
   "source": [
    "fc = \"C:/Users/gust7439/Desktop/hidrologia.gdb/hidrografia\"\n",
    "fields = arcpy.ListFields(\"C:/Users/gust7439/Desktop/hidrologia.gdb/hidrografia\")"
   ]
  },
  {
   "cell_type": "code",
   "execution_count": 4,
   "metadata": {},
   "outputs": [],
   "source": [
    "fields_name = []\n",
    "for field in fields:\n",
    "    fields_name += [field.name]"
   ]
  },
  {
   "cell_type": "code",
   "execution_count": 5,
   "metadata": {},
   "outputs": [
    {
     "name": "stdout",
     "output_type": "stream",
     "text": [
      "['OBJECTID', 'Shape', 'globalid', 'created_user', 'created_date', 'last_edited_user', 'last_edited_date', 'Enabled', 'FLOWDIRECTION', 'Shape_Length']\n"
     ]
    }
   ],
   "source": [
    "print(fields_name)"
   ]
  },
  {
   "cell_type": "code",
   "execution_count": 6,
   "metadata": {},
   "outputs": [
    {
     "data": {
      "text/plain": [
       "10"
      ]
     },
     "execution_count": 6,
     "metadata": {},
     "output_type": "execute_result"
    }
   ],
   "source": [
    "fields_len = len(fields_name)\n",
    "fields_len"
   ]
  },
  {
   "cell_type": "code",
   "execution_count": 7,
   "metadata": {},
   "outputs": [],
   "source": [
    "df1 = pd.DataFrame()\n",
    "for field in fields:\n",
    "    df1.insert (0, field.name, 0, allow_duplicates = False)\n",
    "df1 = df1.loc[:,::-1]"
   ]
  },
  {
   "cell_type": "code",
   "execution_count": 8,
   "metadata": {},
   "outputs": [
    {
     "data": {
      "text/html": [
       "<div>\n",
       "<style scoped>\n",
       "    .dataframe tbody tr th:only-of-type {\n",
       "        vertical-align: middle;\n",
       "    }\n",
       "\n",
       "    .dataframe tbody tr th {\n",
       "        vertical-align: top;\n",
       "    }\n",
       "\n",
       "    .dataframe thead th {\n",
       "        text-align: right;\n",
       "    }\n",
       "</style>\n",
       "<table border=\"1\" class=\"dataframe\">\n",
       "  <thead>\n",
       "    <tr style=\"text-align: right;\">\n",
       "      <th></th>\n",
       "      <th>OBJECTID</th>\n",
       "      <th>Shape</th>\n",
       "      <th>globalid</th>\n",
       "      <th>created_user</th>\n",
       "      <th>created_date</th>\n",
       "      <th>last_edited_user</th>\n",
       "      <th>last_edited_date</th>\n",
       "      <th>Enabled</th>\n",
       "      <th>FLOWDIRECTION</th>\n",
       "      <th>Shape_Length</th>\n",
       "    </tr>\n",
       "  </thead>\n",
       "  <tbody>\n",
       "  </tbody>\n",
       "</table>\n",
       "</div>"
      ],
      "text/plain": [
       "Empty DataFrame\n",
       "Columns: [OBJECTID, Shape, globalid, created_user, created_date, last_edited_user, last_edited_date, Enabled, FLOWDIRECTION, Shape_Length]\n",
       "Index: []"
      ]
     },
     "execution_count": 8,
     "metadata": {},
     "output_type": "execute_result"
    }
   ],
   "source": [
    "df1.head()"
   ]
  },
  {
   "cell_type": "code",
   "execution_count": 9,
   "metadata": {},
   "outputs": [],
   "source": [
    "cont = 1\n",
    "i = 0\n",
    "for fields in fields_name:\n",
    "    content = [row[0] for row in arcpy.da.SearchCursor(fc, fields_name[i])]\n",
    "    df1[fields_name[i]] = content\n",
    "    i += 1\n",
    "    if i == fields_len:\n",
    "        break"
   ]
  },
  {
   "cell_type": "code",
   "execution_count": 10,
   "metadata": {},
   "outputs": [
    {
     "data": {
      "text/html": [
       "<div>\n",
       "<style scoped>\n",
       "    .dataframe tbody tr th:only-of-type {\n",
       "        vertical-align: middle;\n",
       "    }\n",
       "\n",
       "    .dataframe tbody tr th {\n",
       "        vertical-align: top;\n",
       "    }\n",
       "\n",
       "    .dataframe thead th {\n",
       "        text-align: right;\n",
       "    }\n",
       "</style>\n",
       "<table border=\"1\" class=\"dataframe\">\n",
       "  <thead>\n",
       "    <tr style=\"text-align: right;\">\n",
       "      <th></th>\n",
       "      <th>OBJECTID</th>\n",
       "      <th>Shape</th>\n",
       "      <th>globalid</th>\n",
       "      <th>created_user</th>\n",
       "      <th>created_date</th>\n",
       "      <th>last_edited_user</th>\n",
       "      <th>last_edited_date</th>\n",
       "      <th>Enabled</th>\n",
       "      <th>FLOWDIRECTION</th>\n",
       "      <th>Shape_Length</th>\n",
       "    </tr>\n",
       "  </thead>\n",
       "  <tbody>\n",
       "    <tr>\n",
       "      <th>0</th>\n",
       "      <td>1</td>\n",
       "      <td>(-55.92344831472219, -27.358545934080407)</td>\n",
       "      <td>{FE90519E-FC02-4D7F-9E24-7578DA4ABFAA}</td>\n",
       "      <td>None</td>\n",
       "      <td>None</td>\n",
       "      <td>RAFFA</td>\n",
       "      <td>2021-10-14 11:30:05</td>\n",
       "      <td>1</td>\n",
       "      <td>1</td>\n",
       "      <td>0.289006</td>\n",
       "    </tr>\n",
       "    <tr>\n",
       "      <th>1</th>\n",
       "      <td>2</td>\n",
       "      <td>(-57.11310057343598, -27.452921550635995)</td>\n",
       "      <td>{C3C1D19D-686B-4031-B7F3-5028EEA33FD9}</td>\n",
       "      <td>None</td>\n",
       "      <td>None</td>\n",
       "      <td>RAFFA</td>\n",
       "      <td>2021-10-14 11:30:05</td>\n",
       "      <td>1</td>\n",
       "      <td>1</td>\n",
       "      <td>0.502709</td>\n",
       "    </tr>\n",
       "    <tr>\n",
       "      <th>2</th>\n",
       "      <td>3</td>\n",
       "      <td>(-56.58334778265476, -27.37967276634669)</td>\n",
       "      <td>{B7E719AF-4115-4924-8554-5840402A0E47}</td>\n",
       "      <td>None</td>\n",
       "      <td>None</td>\n",
       "      <td>RAFFA</td>\n",
       "      <td>2021-10-14 11:30:05</td>\n",
       "      <td>1</td>\n",
       "      <td>1</td>\n",
       "      <td>0.625029</td>\n",
       "    </tr>\n",
       "    <tr>\n",
       "      <th>3</th>\n",
       "      <td>4</td>\n",
       "      <td>(-56.5547092439445, -27.492350834367166)</td>\n",
       "      <td>{CFF17650-C724-4D76-BC3E-907CB61DF5F9}</td>\n",
       "      <td>None</td>\n",
       "      <td>None</td>\n",
       "      <td>RAFFA</td>\n",
       "      <td>2021-10-14 11:30:05</td>\n",
       "      <td>1</td>\n",
       "      <td>1</td>\n",
       "      <td>0.840681</td>\n",
       "    </tr>\n",
       "    <tr>\n",
       "      <th>4</th>\n",
       "      <td>5</td>\n",
       "      <td>(-56.29849956908013, -27.375102749998838)</td>\n",
       "      <td>{18DEE6F5-95B9-4B44-AFDD-E8B3A6156508}</td>\n",
       "      <td>None</td>\n",
       "      <td>None</td>\n",
       "      <td>RAFFA</td>\n",
       "      <td>2021-10-14 11:30:05</td>\n",
       "      <td>1</td>\n",
       "      <td>1</td>\n",
       "      <td>0.086305</td>\n",
       "    </tr>\n",
       "  </tbody>\n",
       "</table>\n",
       "</div>"
      ],
      "text/plain": [
       "   OBJECTID  ... Shape_Length\n",
       "0         1  ...     0.289006\n",
       "1         2  ...     0.502709\n",
       "2         3  ...     0.625029\n",
       "3         4  ...     0.840681\n",
       "4         5  ...     0.086305\n",
       "\n",
       "[5 rows x 10 columns]"
      ]
     },
     "execution_count": 10,
     "metadata": {},
     "output_type": "execute_result"
    }
   ],
   "source": [
    "df1.head()"
   ]
  },
  {
   "cell_type": "code",
   "execution_count": 12,
   "metadata": {},
   "outputs": [],
   "source": [
    "df1.to_csv('out.csv', index=False)"
   ]
  },
  {
   "cell_type": "code",
   "execution_count": null,
   "metadata": {},
   "outputs": [],
   "source": []
  }
 ],
 "metadata": {
  "kernelspec": {
   "display_name": "ArcGISPro",
   "language": "Python",
   "name": "python3"
  },
  "language_info": {
   "file_extension": ".py",
   "name": "python",
   "version": "3"
  }
 },
 "nbformat": 4,
 "nbformat_minor": 2
}
