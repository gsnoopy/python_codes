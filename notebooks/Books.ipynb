{
 "cells": [
  {
   "cell_type": "code",
   "execution_count": 1,
   "id": "17670c6a",
   "metadata": {},
   "outputs": [],
   "source": [
    "import requests\n",
    "import pandas as pd"
   ]
  },
  {
   "cell_type": "code",
   "execution_count": 2,
   "id": "17901866",
   "metadata": {},
   "outputs": [],
   "source": [
    "df = pd.read_csv('ISBN_livros_ODRA_limpo.csv', delimiter=';')"
   ]
  },
  {
   "cell_type": "code",
   "execution_count": 3,
   "id": "3aac8c42",
   "metadata": {},
   "outputs": [
    {
     "data": {
      "text/html": [
       "<div>\n",
       "<style scoped>\n",
       "    .dataframe tbody tr th:only-of-type {\n",
       "        vertical-align: middle;\n",
       "    }\n",
       "\n",
       "    .dataframe tbody tr th {\n",
       "        vertical-align: top;\n",
       "    }\n",
       "\n",
       "    .dataframe thead th {\n",
       "        text-align: right;\n",
       "    }\n",
       "</style>\n",
       "<table border=\"1\" class=\"dataframe\">\n",
       "  <thead>\n",
       "    <tr style=\"text-align: right;\">\n",
       "      <th></th>\n",
       "      <th>barcode2_all</th>\n",
       "      <th>qntd</th>\n",
       "    </tr>\n",
       "  </thead>\n",
       "  <tbody>\n",
       "    <tr>\n",
       "      <th>0</th>\n",
       "      <td>9788587257390</td>\n",
       "      <td>2</td>\n",
       "    </tr>\n",
       "    <tr>\n",
       "      <th>1</th>\n",
       "      <td>9771518952006</td>\n",
       "      <td>2</td>\n",
       "    </tr>\n",
       "    <tr>\n",
       "      <th>2</th>\n",
       "      <td>9771518952006</td>\n",
       "      <td>2</td>\n",
       "    </tr>\n",
       "    <tr>\n",
       "      <th>3</th>\n",
       "      <td>9771518952006</td>\n",
       "      <td>1</td>\n",
       "    </tr>\n",
       "    <tr>\n",
       "      <th>4</th>\n",
       "      <td>9771518952006</td>\n",
       "      <td>2</td>\n",
       "    </tr>\n",
       "  </tbody>\n",
       "</table>\n",
       "</div>"
      ],
      "text/plain": [
       "    barcode2_all  qntd\n",
       "0  9788587257390     2\n",
       "1  9771518952006     2\n",
       "2  9771518952006     2\n",
       "3  9771518952006     1\n",
       "4  9771518952006     2"
      ]
     },
     "execution_count": 3,
     "metadata": {},
     "output_type": "execute_result"
    }
   ],
   "source": [
    "df.head()"
   ]
  },
  {
   "cell_type": "code",
   "execution_count": 4,
   "id": "7b911694",
   "metadata": {},
   "outputs": [],
   "source": [
    "all_isbn = df['barcode2_all'].tolist()"
   ]
  },
  {
   "cell_type": "code",
   "execution_count": 5,
   "id": "83bb7177",
   "metadata": {},
   "outputs": [],
   "source": [
    "all_isbn = list(dict.fromkeys(all_isbn))\n",
    "cleanedList = [x for x in all_isbn if str(x) != 'nan']"
   ]
  },
  {
   "cell_type": "code",
   "execution_count": 28,
   "id": "5c5916b5",
   "metadata": {},
   "outputs": [],
   "source": [
    "cleanedList = [s.replace('-', '') for s in cleanedList]\n",
    "cleanedList = list(set(cleanedList))"
   ]
  },
  {
   "cell_type": "code",
   "execution_count": 29,
   "id": "644ccb7b",
   "metadata": {
    "scrolled": true
   },
   "outputs": [
    {
     "data": {
      "text/plain": [
       "48"
      ]
     },
     "execution_count": 29,
     "metadata": {},
     "output_type": "execute_result"
    }
   ],
   "source": [
    "len(cleanedList)"
   ]
  },
  {
   "cell_type": "code",
   "execution_count": 32,
   "id": "fd2463d0",
   "metadata": {},
   "outputs": [
    {
     "name": "stdout",
     "output_type": "stream",
     "text": [
      "Tentativa 1!\n",
      "9789231042560\n",
      "\n",
      "\n",
      "{'type': {'key': '/type/edition'}, 'authors': [{'key': '/authors/OL8341850A'}, {'key': '/authors/OL8704426A'}, {'key': '/authors/OL4401552A'}], 'isbn_13': ['9789231042560'], 'languages': [{'key': '/languages/eng'}], 'pagination': '335', 'publish_date': '2013', 'publishers': ['Rowman & Littlefield Publishers, Incorporated'], 'source_records': ['bwb:9789231042560'], 'title': 'Free Flow', 'subtitle': 'Reaching Water Security Through Cooperation', 'full_title': 'Free Flow Reaching Water Security Through Cooperation', 'works': [{'key': '/works/OL26477782W'}], 'key': '/books/OL35776954M', 'latest_revision': 1, 'revision': 1, 'created': {'type': '/type/datetime', 'value': '2021-12-25T11:10:13.806448'}, 'last_modified': {'type': '/type/datetime', 'value': '2021-12-25T11:10:13.806448'}}\n",
      "\n",
      "\n",
      "Tentativa 2!\n",
      "1861862776\n",
      "\n",
      "\n",
      "{'type': {'key': '/type/edition'}, 'title': 'Fundamentals of Carbon Capture and Storage Technology', 'authors': [{'key': '/authors/OL7864514A'}, {'key': '/authors/OL10712516A'}], 'publish_date': 'Sep 20, 2007', 'source_records': ['amazon:1861862776'], 'number_of_pages': 149, 'publishers': ['Petroleum Economist Ltd'], 'isbn_10': ['1861862776'], 'isbn_13': ['9781861862778'], 'physical_format': 'paperback', 'works': [{'key': '/works/OL28942228W'}], 'key': '/books/OL39795643M', 'latest_revision': 1, 'revision': 1, 'created': {'type': '/type/datetime', 'value': '2022-09-20T14:18:13.514031'}, 'last_modified': {'type': '/type/datetime', 'value': '2022-09-20T14:18:13.514031'}}\n",
      "\n",
      "\n",
      "Tentativa 3!\n",
      "9788574744247\n",
      "\n",
      "\n",
      "{'type': {'key': '/type/edition'}, 'title': 'Eco_Lógicas. Renovar É Pensar Diferente', 'authors': [{'key': '/authors/OL7167492A'}], 'publish_date': 'Sep 20, 2009', 'source_records': ['amazon:8574744247'], 'publishers': ['Insular'], 'isbn_10': ['8574744247'], 'isbn_13': ['9788574744247'], 'physical_format': 'paperback', 'works': [{'key': '/works/OL28942224W'}], 'key': '/books/OL39795638M', 'latest_revision': 1, 'revision': 1, 'created': {'type': '/type/datetime', 'value': '2022-09-20T14:04:10.749990'}, 'last_modified': {'type': '/type/datetime', 'value': '2022-09-20T14:04:10.749990'}}\n",
      "\n",
      "\n",
      "Tentativa 4!\n",
      "9788574744933\n",
      "\n",
      "\n",
      "{'type': {'key': '/type/edition'}, 'title': 'Eco-Logicas - Renovar E Pensar Diferente', 'authors': [{'key': '/authors/OL7996362A'}], 'publish_date': 'Sep 20, 2010', 'source_records': ['amazon:857474493X'], 'publishers': ['Insular'], 'isbn_10': ['857474493X'], 'isbn_13': ['9788574744933'], 'physical_format': 'paperback', 'works': [{'key': '/works/OL28942232W'}], 'key': '/books/OL39795648M', 'latest_revision': 1, 'revision': 1, 'created': {'type': '/type/datetime', 'value': '2022-09-20T14:20:38.298304'}, 'last_modified': {'type': '/type/datetime', 'value': '2022-09-20T14:20:38.298304'}}\n",
      "\n",
      "\n",
      "Tentativa 5!\n",
      "9788585147815\n",
      "\n",
      "\n",
      "{'type': {'key': '/type/edition'}, 'title': 'Cepel a Technologia Nacional Vencendo Os Desafios Da Energia Electrica', 'authors': [{'key': '/authors/OL10712517A'}], 'publish_date': 'Sep 20, 2009', 'source_records': ['amazon:8585147814'], 'isbn_10': ['8585147814'], 'isbn_13': ['9788585147815'], 'physical_format': 'paperback', 'works': [{'key': '/works/OL28942229W'}], 'key': '/books/OL39795645M', 'latest_revision': 1, 'revision': 1, 'created': {'type': '/type/datetime', 'value': '2022-09-20T14:19:41.529789'}, 'last_modified': {'type': '/type/datetime', 'value': '2022-09-20T14:19:41.529789'}}\n",
      "\n",
      "\n",
      "Tentativa 6!\n",
      "9789280729269\n",
      "\n",
      "\n",
      "{'publishers': ['UNEP'], 'identifiers': {'librarything': ['8699547']}, 'subtitle': 'a UN guide to climate neutrality', 'covers': [8167887], 'key': '/books/OL22692547M', 'authors': [{'key': '/authors/OL6511884A'}], 'ocaid': 'cccckickhabitung0000kirb', 'publish_places': ['Nairobi, Kenya'], 'isbn_13': ['9789280729269'], 'pagination': '200 p. :', 'source_records': ['marc:marc_loc_updates/v36.i48.records.utf8:6399182:543', 'marc:marc_loc_updates/v37.i09.records.utf8:6921440:543', 'marc:marc_loc_updates/v37.i18.records.utf8:7513911:2005', 'marc:marc_loc_updates/v37.i19.records.utf8:7610590:2005', 'marc:marc_loc_updates/v37.i38.records.utf8:27054096:1966', 'ia:kickhabitunguide00prog', 'ia:kickhabitunguide00prog_398', 'ia:cccckickhabitung0000kirb', 'marc:marc_loc_2016/BooksAll.2016.part35.utf8:205993222:1966'], 'title': 'Kick the habit', 'lccn': ['2008345194'], 'notes': {'type': '/type/text', 'value': 'Includes bibliographical references (p. 198-200).'}, 'number_of_pages': 200, 'languages': [{'key': '/languages/eng'}], 'publish_date': '2008', 'publish_country': 'ke ', 'by_statement': 'writer Alex Kirby.', 'works': [{'key': '/works/OL13655985W'}], 'type': {'key': '/type/edition'}, 'lc_classifications': ['QC981.8.C5 K57 2008'], 'latest_revision': 13, 'revision': 13, 'created': {'type': '/type/datetime', 'value': '2008-12-12T12:52:47.432013'}, 'last_modified': {'type': '/type/datetime', 'value': '2020-12-20T13:05:43.378171'}}\n",
      "\n",
      "\n",
      "Tentativa 7!\n",
      "9788538212089\n",
      "\n",
      "\n",
      "{'type': {'key': '/type/edition'}, 'title': 'Mulheres, elas fazem história', 'authors': [{'key': '/authors/OL8822777A'}], 'publish_date': 'Sep 20, 2012', 'source_records': ['amazon:8538212087'], 'isbn_10': ['8538212087'], 'isbn_13': ['9788538212089'], 'physical_format': 'paperback', 'full_title': 'Mulheres, elas fazem história : experiências profissionais, práticas empresariais e reflexões sobre a liderança feminina', 'subtitle': 'experiências profissionais, práticas empresariais e reflexões sobre a liderança feminina', 'notes': {'type': '/type/text', 'value': 'Source title: Mulheres, elas fazem história: experiências profissionais, práticas empresariais e reflexões sobre a liderança feminina'}, 'works': [{'key': '/works/OL28942223W'}], 'key': '/books/OL39795634M', 'latest_revision': 1, 'revision': 1, 'created': {'type': '/type/datetime', 'value': '2022-09-20T13:58:56.998093'}, 'last_modified': {'type': '/type/datetime', 'value': '2022-09-20T13:58:56.998093'}}\n",
      "\n",
      "\n",
      "Tentativa 8!\n",
      "9788591152902\n",
      "\n",
      "\n",
      "{'publishers': ['[publisher not identified]'], 'subtitle': 'a Era Vargas continua', 'dewey_decimal_class': ['338.981/05'], 'lc_classifications': ['HD4094 .N48 2010'], 'latest_revision': 1, 'key': '/books/OL31101096M', 'authors': [{'key': '/authors/OL6947045A'}], 'publish_places': ['Curitiba, Brazil]'], 'isbn_13': ['9788591152902'], 'pagination': '374 pages', 'source_records': ['marc:marc_loc_2016/BooksAll.2016.part41.utf8:234017603:935'], 'title': 'Privatizações de FHC', 'lccn': ['2014344175'], 'number_of_pages': 374, 'created': {'type': '/type/datetime', 'value': '2020-11-13T15:34:27.462850'}, 'languages': [{'key': '/languages/por'}], 'subject_places': ['Brazil'], 'subjects': ['Privatization', 'Politics and government'], 'subject_people': ['Fernando Henrique Cardoso'], 'publish_country': 'bl', 'last_modified': {'type': '/type/datetime', 'value': '2020-11-13T15:34:27.462850'}, 'publish_date': '2010', 'by_statement': 'Léo de Almeida Neves ; prefácio de Jorge Miguel Samek', 'subject_times': ['1985-2002'], 'works': [{'key': '/works/OL23261356W'}], 'type': {'key': '/type/edition'}, 'revision': 1}\n",
      "\n",
      "\n",
      "Tentativa 9!\n",
      "9788524041242\n",
      "\n",
      "\n",
      "{'type': {'key': '/type/edition'}, 'title': 'Perfil dos municípios brasileiros', 'authors': [{'key': '/authors/OL10712519A'}], 'publish_date': 'Sep 20, 2010', 'source_records': ['amazon:8524041242'], 'publishers': ['Instituto Brasileiro de Geografia e Estatística. IBGE'], 'isbn_10': ['8524041242'], 'isbn_13': ['9788524041242'], 'physical_format': 'paperback', 'full_title': 'Perfil dos municípios brasileiros assistência social 2009. --', 'subtitle': 'assistência social 2009. --', 'notes': {'type': '/type/text', 'value': 'Source title: Perfil dos municípios brasileiros : assistência social 2009. -- ( Perfil dos municípios brasileiros )'}, 'works': [{'key': '/works/OL28942234W'}], 'key': '/books/OL39795650M', 'latest_revision': 1, 'revision': 1, 'created': {'type': '/type/datetime', 'value': '2022-09-20T14:21:01.295426'}, 'last_modified': {'type': '/type/datetime', 'value': '2022-09-20T14:21:01.295426'}}\n",
      "\n",
      "\n",
      "Tentativa 10!\n",
      "9788561325152\n",
      "\n",
      "\n",
      "{'type': {'key': '/type/edition'}, 'title': 'Hydrogen Technology / Tecnologia do Hidrogênio', 'authors': [{'key': '/authors/OL10712518A'}], 'publish_date': 'Sep 20, 2009', 'source_records': ['amazon:8561325151'], 'number_of_pages': 208, 'publishers': ['SYNERGIA'], 'isbn_10': ['8561325151'], 'isbn_13': ['9788561325152'], 'physical_format': 'paperback', 'notes': {'type': '/type/text', 'value': 'Source title: Hydrogen Technology / Tecnologia do Hidrogênio (Portuguese Edition)'}, 'works': [{'key': '/works/OL28942231W'}], 'key': '/books/OL39795647M', 'latest_revision': 1, 'revision': 1, 'created': {'type': '/type/datetime', 'value': '2022-09-20T14:20:14.108383'}, 'last_modified': {'type': '/type/datetime', 'value': '2022-09-20T14:20:14.108383'}}\n",
      "\n",
      "\n"
     ]
    }
   ],
   "source": [
    "contador = 0\n",
    "for isbn in cleanedList:\n",
    "    response = requests.get('https://openlibrary.org/isbn/'+isbn+'.json')\n",
    "    if response.status_code == 200:\n",
    "        try:\n",
    "            contador += 1\n",
    "            print('Tentativa ' + str(contador) + '!')\n",
    "            print(isbn)\n",
    "            print('\\n')\n",
    "            print(response.json())\n",
    "            print('\\n')\n",
    "        except ValueError:\n",
    "            print('n deu')"
   ]
  },
  {
   "cell_type": "code",
   "execution_count": null,
   "id": "3ff602a7",
   "metadata": {},
   "outputs": [],
   "source": []
  }
 ],
 "metadata": {
  "kernelspec": {
   "display_name": "Python 3 (ipykernel)",
   "language": "python",
   "name": "python3"
  },
  "language_info": {
   "codemirror_mode": {
    "name": "ipython",
    "version": 3
   },
   "file_extension": ".py",
   "mimetype": "text/x-python",
   "name": "python",
   "nbconvert_exporter": "python",
   "pygments_lexer": "ipython3",
   "version": "3.9.12"
  }
 },
 "nbformat": 4,
 "nbformat_minor": 5
}
